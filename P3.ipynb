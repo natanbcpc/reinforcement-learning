{
 "cells": [
  {
   "cell_type": "code",
   "execution_count": 1,
   "id": "a1cfdbb2",
   "metadata": {},
   "outputs": [
    {
     "name": "stdout",
     "output_type": "stream",
     "text": [
      "layout:  originalClassic\n",
      "Pacman died! Score: -86\n",
      "Average Score: -86.0\n",
      "Scores:        -86.0\n",
      "Win Rate:      0/1 (0.00)\n",
      "Record:        Loss\n",
      "-86.0\n"
     ]
    }
   ],
   "source": [
    "import pacman\n",
    "import globalValues\n",
    "from strategy import Strategy\n",
    "import values\n",
    "import operators\n",
    "\n",
    "eastStrategy = operators.Division(values.Constant1(), operators.Subtraction(values.ClosestFoodX(), values.PacmanX()))\n",
    "southStrategy = operators.Division(values.Constant1(), operators.Subtraction(values.PacmanY(), values.ClosestFoodY()))\n",
    "westStrategy = operators.Division(values.Constant1(), operators.Subtraction(values.PacmanX(), values.ClosestFoodX()))\n",
    "northStrategy = operators.Division(values.Constant1(), operators.Subtraction(values.ClosestFoodY(), values.PacmanY()))\n",
    "stopStrategy = values.Constant0()\n",
    "globalValues.strategy = Strategy([eastStrategy, southStrategy, westStrategy, northStrategy, stopStrategy])\n",
    "args = pacman.readCommand([\"-l\", \"originalClassic\", \"-p\", \"GeneticAgent\"])\n",
    "games = pacman.runGames(**args)\n",
    "print(games[0].state.getScore())"
   ]
  },
  {
   "cell_type": "code",
   "execution_count": null,
   "id": "3e4a5002",
   "metadata": {},
   "outputs": [],
   "source": []
  }
 ],
 "metadata": {
  "kernelspec": {
   "display_name": "Python 3",
   "language": "python",
   "name": "python3"
  },
  "language_info": {
   "codemirror_mode": {
    "name": "ipython",
    "version": 3
   },
   "file_extension": ".py",
   "mimetype": "text/x-python",
   "name": "python",
   "nbconvert_exporter": "python",
   "pygments_lexer": "ipython3",
   "version": "3.8.10"
  }
 },
 "nbformat": 4,
 "nbformat_minor": 5
}
